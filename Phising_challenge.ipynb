{
 "cells": [
  {
   "cell_type": "code",
   "execution_count": 1,
   "metadata": {},
   "outputs": [],
   "source": [
    "# Phishing challenge (Machile learning/Data Science)\n",
    "# Owner Amitabh Bhattacharya\n",
    "\n",
    "# Importing the necessary packages\n",
    "import pandas as pd\n",
    "import numpy as np\n",
    "import matplotlib.pyplot as plt\n",
    "%matplotlib inline\n",
    "\n",
    "import pickle\n",
    "import re\n",
    "\n",
    "# from sklearn.model_selection import train_test_split\n",
    "# from sklearn.preprocessing import StandardScaler\n",
    "# from sklearn.linear_model import LogisticRegression\n",
    "from sklearn.ensemble import RandomForestClassifier\n",
    "from sklearn.model_selection import cross_val_score\n",
    "\n",
    "from sklearn.metrics import f1_score\n"
   ]
  },
  {
   "cell_type": "code",
   "execution_count": 2,
   "metadata": {},
   "outputs": [
    {
     "data": {
      "text/html": [
       "<div>\n",
       "<style scoped>\n",
       "    .dataframe tbody tr th:only-of-type {\n",
       "        vertical-align: middle;\n",
       "    }\n",
       "\n",
       "    .dataframe tbody tr th {\n",
       "        vertical-align: top;\n",
       "    }\n",
       "\n",
       "    .dataframe thead th {\n",
       "        text-align: right;\n",
       "    }\n",
       "</style>\n",
       "<table border=\"1\" class=\"dataframe\">\n",
       "  <thead>\n",
       "    <tr style=\"text-align: right;\">\n",
       "      <th></th>\n",
       "      <th>create_age(months)</th>\n",
       "      <th>expiry_age(months)</th>\n",
       "      <th>update_age(days)</th>\n",
       "      <th>URL</th>\n",
       "      <th>Label</th>\n",
       "    </tr>\n",
       "  </thead>\n",
       "  <tbody>\n",
       "    <tr>\n",
       "      <th>0</th>\n",
       "      <td>-1</td>\n",
       "      <td>-1</td>\n",
       "      <td>-1</td>\n",
       "      <td>http://account-google-com.ngate.my/c44cca40176...</td>\n",
       "      <td>1</td>\n",
       "    </tr>\n",
       "    <tr>\n",
       "      <th>1</th>\n",
       "      <td>212</td>\n",
       "      <td>16</td>\n",
       "      <td>663</td>\n",
       "      <td>http://www.coffeespecialties.com/...</td>\n",
       "      <td>0</td>\n",
       "    </tr>\n",
       "    <tr>\n",
       "      <th>2</th>\n",
       "      <td>-1</td>\n",
       "      <td>-1</td>\n",
       "      <td>-1</td>\n",
       "      <td>http://black.pk/wp-content/2013/04/bp.postale/...</td>\n",
       "      <td>1</td>\n",
       "    </tr>\n",
       "    <tr>\n",
       "      <th>3</th>\n",
       "      <td>198</td>\n",
       "      <td>6</td>\n",
       "      <td>186</td>\n",
       "      <td>http://atomicsoda.com/manutd...</td>\n",
       "      <td>0</td>\n",
       "    </tr>\n",
       "    <tr>\n",
       "      <th>4</th>\n",
       "      <td>240</td>\n",
       "      <td>24</td>\n",
       "      <td>1684</td>\n",
       "      <td>http://bostoncoffeecake.com/...</td>\n",
       "      <td>0</td>\n",
       "    </tr>\n",
       "  </tbody>\n",
       "</table>\n",
       "</div>"
      ],
      "text/plain": [
       "   create_age(months)  expiry_age(months)  update_age(days)  \\\n",
       "0                  -1                  -1                -1   \n",
       "1                 212                  16               663   \n",
       "2                  -1                  -1                -1   \n",
       "3                 198                   6               186   \n",
       "4                 240                  24              1684   \n",
       "\n",
       "                                                 URL  Label  \n",
       "0  http://account-google-com.ngate.my/c44cca40176...      1  \n",
       "1               http://www.coffeespecialties.com/...      0  \n",
       "2  http://black.pk/wp-content/2013/04/bp.postale/...      1  \n",
       "3                    http://atomicsoda.com/manutd...      0  \n",
       "4                    http://bostoncoffeecake.com/...      0  "
      ]
     },
     "execution_count": 2,
     "metadata": {},
     "output_type": "execute_result"
    }
   ],
   "source": [
    "# Loading the dataset\n",
    "train_val = pd.read_csv(\"phishing_dataset.csv\")\n",
    "train_val = train_val.iloc[:,1:]\n",
    "train_val.head()\n"
   ]
  },
  {
   "cell_type": "code",
   "execution_count": 3,
   "metadata": {},
   "outputs": [
    {
     "name": "stdout",
     "output_type": "stream",
     "text": [
      "<class 'pandas.core.frame.DataFrame'>\n",
      "RangeIndex: 4799 entries, 0 to 4798\n",
      "Data columns (total 5 columns):\n",
      "create_age(months)    4799 non-null int64\n",
      "expiry_age(months)    4799 non-null int64\n",
      "update_age(days)      4799 non-null int64\n",
      "URL                   4799 non-null object\n",
      "Label                 4799 non-null int64\n",
      "dtypes: int64(4), object(1)\n",
      "memory usage: 187.5+ KB\n",
      "None\n",
      "       create_age(months)  expiry_age(months)  update_age(days)        Label\n",
      "count         4799.000000         4799.000000       4799.000000  4799.000000\n",
      "mean            91.288810           12.264430        272.264638     0.532403\n",
      "std             92.868921           20.033764        618.276458     0.499001\n",
      "min             -1.000000          -78.000000       -115.000000     0.000000\n",
      "25%             -1.000000           -1.000000         -1.000000     0.000000\n",
      "50%             56.000000            7.000000         91.000000     1.000000\n",
      "75%            188.000000           12.000000        292.500000     1.000000\n",
      "max            365.000000          120.000000       9959.000000     1.000000\n"
     ]
    }
   ],
   "source": [
    "# Dataset information\n",
    "print(train_val.info())\n",
    "\n",
    "# Dataset description\n",
    "print(train_val.describe())\n"
   ]
  },
  {
   "cell_type": "code",
   "execution_count": 4,
   "metadata": {},
   "outputs": [],
   "source": [
    "# Fields update_age(days) & expiry_age(months) has outliers\n",
    "# train_val[\"update_age(days)\"].value_counts().sort_index()\n",
    "train_val.loc[train_val[\"update_age(days)\"] < -1, \"update_age(days)\"] = -1\n",
    "\n",
    "# train_val[\"expiry_age(months)\"].value_counts().sort_index()\n",
    "train_val.loc[train_val[\"expiry_age(months)\"] < -1, \"expiry_age(months)\"] = -1\n"
   ]
  },
  {
   "cell_type": "code",
   "execution_count": 5,
   "metadata": {},
   "outputs": [],
   "source": [
    "# Getting rid of starting substring http:// or https:// and ending ... in URL string\n",
    "train_val[\"URL\"] = train_val[\"URL\"].str.split(\"://\").str[1]\n",
    "train_val[\"URL\"] = train_val[\"URL\"].str[:-3]\n"
   ]
  },
  {
   "cell_type": "code",
   "execution_count": 6,
   "metadata": {},
   "outputs": [
    {
     "name": "stdout",
     "output_type": "stream",
     "text": [
      "False negative percent value for 'strange_char_presence':  2.937720329024677\n",
      "\n",
      "\n",
      "                          Label  strange_char_presence\n",
      "Label                  1.000000               0.407767\n",
      "strange_char_presence  0.407767               1.000000\n"
     ]
    }
   ],
   "source": [
    "# Feature engineering (URL processing)\n",
    "\n",
    "# URL length\n",
    "train_val[\"url_length\"] = train_val[\"URL\"].str.len()\n",
    "\n",
    "# Total number of digits in the URL\n",
    "regex_1 = re.compile(r\"\\d\")\n",
    "train_val[\"digit_count\"] = train_val[\"URL\"].apply(lambda x: len(regex_1.findall(x)))\n",
    "\n",
    "# Total number of sub-domains present in the URL\n",
    "train_val[\"full_domain\"] = train_val[\"URL\"].str.split(\"/\").str[0]\n",
    "regex_2 = re.compile(r\"\\.\")\n",
    "train_val[\"sub_domain_count\"] = train_val[\"full_domain\"].apply(lambda x: len(regex_2.findall(x)) - 1)\n",
    "train_val.drop([\"full_domain\"], axis = 1, inplace = True)\n",
    "\n",
    "# Presence of characters like ?, %, digits        \n",
    "train_val[\"strange_char_presence\"] = train_val[\"URL\"].apply(lambda x: int(bool(re.search(r\"[?]\", x))))\n",
    "train_val[\"strange_char_presence\"] = train_val[\"strange_char_presence\"] + train_val[\"URL\"].apply(lambda x: int(bool(re.search(r\"[%]\", x))))\n",
    "train_val[\"strange_char_presence\"] = train_val[\"strange_char_presence\"] + train_val[\"URL\"].apply(lambda x: int(bool(re.search(r\"\\d+[a-zA-Z]+\\d+\", x))))\n",
    "train_val[\"strange_char_presence\"] = train_val[\"strange_char_presence\"].apply(lambda x: 1 if x > 0 else 0)\n",
    "\n",
    "# The below output shows that 2.93 % results are False negative towards the above engineered feature \n",
    "# which is a good score.\n",
    "fn = 100*len(train_val[(train_val.strange_char_presence == 1) & (train_val.Label == 0)]) \\\n",
    "/len(train_val[train_val.strange_char_presence == 1])\n",
    "\n",
    "print(\"False negative percent value for 'strange_char_presence': \", fn)\n",
    "\n",
    "print(\"\\n\")\n",
    "corr_1 = train_val[[\"Label\", \"strange_char_presence\"]].corr()\n",
    "print(corr_1)\n"
   ]
  },
  {
   "cell_type": "code",
   "execution_count": 7,
   "metadata": {},
   "outputs": [
    {
     "name": "stdout",
     "output_type": "stream",
     "text": [
      "<matplotlib.collections.PathCollection object at 0x000001F0A9C074E0> \n",
      "\n"
     ]
    },
    {
     "data": {
      "image/png": "[encoded data removed]",
      "text/plain": [
       "<Figure size 864x144 with 1 Axes>"
      ]
     },
     "metadata": {
      "needs_background": "light"
     },
     "output_type": "display_data"
    },
    {
     "name": "stdout",
     "output_type": "stream",
     "text": [
      "<matplotlib.collections.PathCollection object at 0x000001F0A9AA2908> \n",
      "\n"
     ]
    },
    {
     "data": {
      "image/png": "[encoded data removed]",
      "text/plain": [
       "<Figure size 864x144 with 1 Axes>"
      ]
     },
     "metadata": {
      "needs_background": "light"
     },
     "output_type": "display_data"
    },
    {
     "name": "stdout",
     "output_type": "stream",
     "text": [
      "<matplotlib.collections.PathCollection object at 0x000001F0A9EBC5C0> \n",
      "\n"
     ]
    },
    {
     "data": {
      "image/png": "[encoded data removed]",
      "text/plain": [
       "<Figure size 864x144 with 1 Axes>"
      ]
     },
     "metadata": {
      "needs_background": "light"
     },
     "output_type": "display_data"
    }
   ],
   "source": [
    "# Figuring pattern in provide features when compared with Label\n",
    "# train_val[\"update_age(days)\"].value_counts().sort_index()\n",
    "\n",
    "plt.figure(figsize=(12,2))\n",
    "print(plt.scatter(train_val[\"update_age(days)\"], train_val[\"Label\"]), \"\\n\")\n",
    "plt.show()\n",
    "\n",
    "plt.figure(figsize=(12,2))\n",
    "print(plt.scatter(train_val[\"create_age(months)\"], train_val[\"Label\"]), \"\\n\")\n",
    "plt.show()\n",
    "\n",
    "plt.figure(figsize=(12,2))\n",
    "print(plt.scatter(train_val[\"expiry_age(months)\"], train_val[\"Label\"]), \"\\n\")\n",
    "plt.show()\n"
   ]
  },
  {
   "cell_type": "code",
   "execution_count": 8,
   "metadata": {},
   "outputs": [],
   "source": [
    "# Binarizing the fields update_age(days), create_age(months), expiry_age(months)\n",
    "as1 = train_val[\"update_age(days)\"].mean()\n",
    "train_val[\"update_age_lt_mean\"] = train_val[\"update_age(days)\"].apply(lambda x: 1 if x <= as1 else 0)\n",
    "\n",
    "as2 = train_val[\"create_age(months)\"].mean()\n",
    "train_val[\"create_age_lt_mean\"] = train_val[\"create_age(months)\"].apply(lambda x: 1 if x <= as2 else 0)\n"
   ]
  },
  {
   "cell_type": "code",
   "execution_count": 9,
   "metadata": {},
   "outputs": [
    {
     "data": {
      "text/html": [
       "<div>\n",
       "<style scoped>\n",
       "    .dataframe tbody tr th:only-of-type {\n",
       "        vertical-align: middle;\n",
       "    }\n",
       "\n",
       "    .dataframe tbody tr th {\n",
       "        vertical-align: top;\n",
       "    }\n",
       "\n",
       "    .dataframe thead th {\n",
       "        text-align: right;\n",
       "    }\n",
       "</style>\n",
       "<table border=\"1\" class=\"dataframe\">\n",
       "  <thead>\n",
       "    <tr style=\"text-align: right;\">\n",
       "      <th></th>\n",
       "      <th>create_age(months)</th>\n",
       "      <th>expiry_age(months)</th>\n",
       "      <th>update_age(days)</th>\n",
       "      <th>URL</th>\n",
       "      <th>Label</th>\n",
       "      <th>url_length</th>\n",
       "      <th>digit_count</th>\n",
       "      <th>sub_domain_count</th>\n",
       "      <th>strange_char_presence</th>\n",
       "      <th>update_age_lt_mean</th>\n",
       "      <th>create_age_lt_mean</th>\n",
       "    </tr>\n",
       "  </thead>\n",
       "  <tbody>\n",
       "    <tr>\n",
       "      <th>0</th>\n",
       "      <td>-1</td>\n",
       "      <td>-1</td>\n",
       "      <td>-1</td>\n",
       "      <td>account-google-com.ngate.my/c44cca401760e0c1e1...</td>\n",
       "      <td>1</td>\n",
       "      <td>60</td>\n",
       "      <td>21</td>\n",
       "      <td>1</td>\n",
       "      <td>1</td>\n",
       "      <td>1</td>\n",
       "      <td>1</td>\n",
       "    </tr>\n",
       "    <tr>\n",
       "      <th>1</th>\n",
       "      <td>212</td>\n",
       "      <td>16</td>\n",
       "      <td>663</td>\n",
       "      <td>www.coffeespecialties.com/</td>\n",
       "      <td>0</td>\n",
       "      <td>26</td>\n",
       "      <td>0</td>\n",
       "      <td>1</td>\n",
       "      <td>0</td>\n",
       "      <td>0</td>\n",
       "      <td>0</td>\n",
       "    </tr>\n",
       "    <tr>\n",
       "      <th>2</th>\n",
       "      <td>-1</td>\n",
       "      <td>-1</td>\n",
       "      <td>-1</td>\n",
       "      <td>black.pk/wp-content/2013/04/bp.postale/9630609...</td>\n",
       "      <td>1</td>\n",
       "      <td>63</td>\n",
       "      <td>21</td>\n",
       "      <td>0</td>\n",
       "      <td>1</td>\n",
       "      <td>1</td>\n",
       "      <td>1</td>\n",
       "    </tr>\n",
       "    <tr>\n",
       "      <th>3</th>\n",
       "      <td>198</td>\n",
       "      <td>6</td>\n",
       "      <td>186</td>\n",
       "      <td>atomicsoda.com/manutd</td>\n",
       "      <td>0</td>\n",
       "      <td>21</td>\n",
       "      <td>0</td>\n",
       "      <td>0</td>\n",
       "      <td>0</td>\n",
       "      <td>1</td>\n",
       "      <td>0</td>\n",
       "    </tr>\n",
       "    <tr>\n",
       "      <th>4</th>\n",
       "      <td>240</td>\n",
       "      <td>24</td>\n",
       "      <td>1684</td>\n",
       "      <td>bostoncoffeecake.com/</td>\n",
       "      <td>0</td>\n",
       "      <td>21</td>\n",
       "      <td>0</td>\n",
       "      <td>0</td>\n",
       "      <td>0</td>\n",
       "      <td>0</td>\n",
       "      <td>0</td>\n",
       "    </tr>\n",
       "  </tbody>\n",
       "</table>\n",
       "</div>"
      ],
      "text/plain": [
       "   create_age(months)  expiry_age(months)  update_age(days)  \\\n",
       "0                  -1                  -1                -1   \n",
       "1                 212                  16               663   \n",
       "2                  -1                  -1                -1   \n",
       "3                 198                   6               186   \n",
       "4                 240                  24              1684   \n",
       "\n",
       "                                                 URL  Label  url_length  \\\n",
       "0  account-google-com.ngate.my/c44cca401760e0c1e1...      1          60   \n",
       "1                         www.coffeespecialties.com/      0          26   \n",
       "2  black.pk/wp-content/2013/04/bp.postale/9630609...      1          63   \n",
       "3                              atomicsoda.com/manutd      0          21   \n",
       "4                              bostoncoffeecake.com/      0          21   \n",
       "\n",
       "   digit_count  sub_domain_count  strange_char_presence  update_age_lt_mean  \\\n",
       "0           21                 1                      1                   1   \n",
       "1            0                 1                      0                   0   \n",
       "2           21                 0                      1                   1   \n",
       "3            0                 0                      0                   1   \n",
       "4            0                 0                      0                   0   \n",
       "\n",
       "   create_age_lt_mean  \n",
       "0                   1  \n",
       "1                   0  \n",
       "2                   1  \n",
       "3                   0  \n",
       "4                   0  "
      ]
     },
     "execution_count": 9,
     "metadata": {},
     "output_type": "execute_result"
    }
   ],
   "source": [
    "train_val.head()"
   ]
  },
  {
   "cell_type": "code",
   "execution_count": 11,
   "metadata": {},
   "outputs": [
    {
     "name": "stdout",
     "output_type": "stream",
     "text": [
      "F1 score for the validation dataset is:  0.932\n"
     ]
    }
   ],
   "source": [
    "# Modelling/Training RandomForestClassifier model\n",
    "\n",
    "model_cols = [\"url_length\", \"digit_count\", \"sub_domain_count\", \"create_age_lt_mean\", \"update_age_lt_mean\", \\\n",
    "              \"strange_char_presence\", \"create_age(months)\", \"update_age(days)\", \"expiry_age(months)\"]\n",
    "\n",
    "rfc = RandomForestClassifier(n_estimators = 50, max_depth = 10, n_jobs = -1)\n",
    "rfc.fit(train_val[model_cols], train_val[\"Label\"])\n",
    "\n",
    "model_file = (\"model_rfc.sav\")\n",
    "pickle.dump(rfc, open(model_file, 'wb'))\n",
    "\n",
    "loaded_rfc = pickle.load(open(model_file, 'rb'))\n",
    "\n",
    "f1_mean_rfc = np.mean(cross_val_score(loaded_rfc, train_val[model_cols], train_val[\"Label\"], scoring = \"f1\", cv = 5))\n",
    "print (\"F1 score for the validation dataset is: \", round(f1_mean_rfc, 3))\n"
   ]
  },
  {
   "cell_type": "code",
   "execution_count": 12,
   "metadata": {},
   "outputs": [],
   "source": [
    "# Test dataset preparation function. \n",
    "# This function takes a csv file as input. The input csv format should be same like phishing_dataset.csv\n",
    "# The output is a dataframe containing all features required for the testing including engineered features as well\n",
    "# as the y label. Just extract the y label from the output dataframe returened from the function and apply for prediction.\n",
    "\n",
    "def test_prep(test):\n",
    "    # Removing the first column\n",
    "    df = test.copy()\n",
    "    df = df.iloc[:,1:]\n",
    "    \n",
    "    # Fields update_age(days) & expiry_age(months) has outliers\n",
    "    df.loc[df[\"update_age(days)\"] < -1, \"update_age(days)\"] = -1\n",
    "    df.loc[df[\"expiry_age(months)\"] < -1, \"expiry_age(months)\"] = -1\n",
    "    \n",
    "    df[\"URL\"] = df[\"URL\"].str.split(\"://\").str[1]\n",
    "    df[\"URL\"] = df[\"URL\"].str[:-3]\n",
    "    \n",
    "    # URL processing...\n",
    "    # URL length\n",
    "    df[\"url_length\"] = df[\"URL\"].str.len()\n",
    "    df[\"digit_count\"] = df[\"URL\"].apply(lambda x: len(regex_1.findall(x)))\n",
    "    \n",
    "    # Total number of sub-domains present in the URL\n",
    "    df[\"full_domain\"] = df[\"URL\"].str.split(\"/\").str[0]\n",
    "    df[\"sub_domain_count\"] = df[\"full_domain\"].apply(lambda x: len(regex_2.findall(x)) - 1)\n",
    "    df.drop([\"full_domain\"], axis = 1, inplace = True)\n",
    "    \n",
    "    df[\"strange_char_presence\"] = df[\"URL\"].apply(lambda x: int(bool(re.search(r\"[?]\", x))))\n",
    "    df[\"strange_char_presence\"] = df[\"strange_char_presence\"] + df[\"URL\"].apply(lambda x: int(bool(re.search(r\"[%]\", x))))\n",
    "    df[\"strange_char_presence\"] = df[\"strange_char_presence\"] + df[\"URL\"].apply(lambda x: int(bool(re.search(r\"\\d+[a-zA-Z]+\\d+\", x))))\n",
    "    df[\"strange_char_presence\"] = df[\"strange_char_presence\"].apply(lambda x: 1 if x > 0 else 0)\n",
    "\n",
    "    # Binarizing the fields update_age(days), create_age(months), expiry_age(months)\n",
    "    as1 = df[\"update_age(days)\"].mean()\n",
    "    df[\"update_age_lt_mean\"] = df[\"update_age(days)\"].apply(lambda x: 1 if x <= as1 else 0)\n",
    "    as2 = df[\"create_age(months)\"].mean()\n",
    "    df[\"create_age_lt_mean\"] = df[\"create_age(months)\"].apply(lambda x: 1 if x <= as2 else 0)\n",
    "        \n",
    "    X_test = df[model_cols]\n",
    "    y_test = df[\"Label\"]\n",
    "    \n",
    "    df = pd.concat([X_test, y_test], axis = 1)\n",
    "        \n",
    "    return df\n",
    "    "
   ]
  },
  {
   "cell_type": "code",
   "execution_count": 13,
   "metadata": {},
   "outputs": [
    {
     "name": "stdout",
     "output_type": "stream",
     "text": [
      "F1 score for the test dataset is:  0.957\n"
     ]
    }
   ],
   "source": [
    "# Test prediction and scores\n",
    "\n",
    "test = pd.read_csv(\"Test.csv\")  # Change the Test.csv file name here with appropriate name\n",
    "test_data = test_prep(test)\n",
    "y_predict = loaded_rfc.predict(test_data[model_cols])\n",
    "\n",
    "# F1_score\n",
    "score_test = f1_score(test_data[\"Label\"], y_predict)\n",
    "print(\"F1 score for the test dataset is: \", round(score_test, 3))\n"
   ]
  }
 ],
 "metadata": {
  "kernelspec": {
   "display_name": "Python 3",
   "language": "python",
   "name": "python3"
  },
  "language_info": {
   "codemirror_mode": {
    "name": "ipython",
    "version": 3
   },
   "file_extension": ".py",
   "mimetype": "text/x-python",
   "name": "python",
   "nbconvert_exporter": "python",
   "pygments_lexer": "ipython3",
   "version": "3.7.1"
  }
 },
 "nbformat": 4,
 "nbformat_minor": 2
}
